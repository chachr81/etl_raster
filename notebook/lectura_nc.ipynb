{
 "cells": [
  {
   "cell_type": "code",
   "execution_count": 4,
   "id": "50015363",
   "metadata": {},
   "outputs": [
    {
     "data": {
      "text/plain": [
       "<xarray.core.options.set_options at 0x7fd0fc3b5850>"
      ]
     },
     "execution_count": 4,
     "metadata": {},
     "output_type": "execute_result"
    }
   ],
   "source": [
    "import xarray as xr\n",
    "import numpy as np\n",
    "\n",
    "# Opcional para ver chunks y rendimiento\n",
    "xr.set_options(display_style='text')"
   ]
  },
  {
   "cell_type": "code",
   "execution_count": 5,
   "id": "8d6ebf0c",
   "metadata": {},
   "outputs": [
    {
     "data": {
      "text/html": [
       "<pre>&lt;xarray.DataArray &#x27;clase&#x27; (anio: 10, y: 89094, x: 72127)&gt; Size: 514GB\n",
       "dask.array&lt;open_dataset-clase, shape=(10, 89094, 72127), dtype=float64, chunksize=(1, 5569, 4508), chunktype=numpy.ndarray&gt;\n",
       "Coordinates:\n",
       "  * x        (x) float64 577kB -8.572e+06 -8.572e+06 ... -7.382e+06 -7.382e+06\n",
       "  * y        (y) float64 713kB -6.198e+06 -6.198e+06 ... -7.668e+06 -7.668e+06\n",
       "  * anio     (anio) int64 80B 2015 2016 2017 2018 2019 2020 2021 2022 2023 2024\n",
       "Attributes:\n",
       "    AREA_OR_POINT:  Area</pre>"
      ],
      "text/plain": [
       "<xarray.DataArray 'clase' (anio: 10, y: 89094, x: 72127)> Size: 514GB\n",
       "dask.array<open_dataset-clase, shape=(10, 89094, 72127), dtype=float64, chunksize=(1, 5569, 4508), chunktype=numpy.ndarray>\n",
       "Coordinates:\n",
       "  * x        (x) float64 577kB -8.572e+06 -8.572e+06 ... -7.382e+06 -7.382e+06\n",
       "  * y        (y) float64 713kB -6.198e+06 -6.198e+06 ... -7.668e+06 -7.668e+06\n",
       "  * anio     (anio) int64 80B 2015 2016 2017 2018 2019 2020 2021 2022 2023 2024\n",
       "Attributes:\n",
       "    AREA_OR_POINT:  Area"
      ]
     },
     "execution_count": 5,
     "metadata": {},
     "output_type": "execute_result"
    }
   ],
   "source": [
    "# Ruta al archivo NetCDF generado\n",
    "nc_path = \"/home/dps_chanar/raster_data/humedales_giz/stack_humedales.nc\"\n",
    "\n",
    "# Cargar dataset con chunks\n",
    "ds = xr.open_dataset(nc_path, chunks={\"anio\": 1})\n",
    "da = ds[\"clase\"]\n",
    "\n",
    "# Mostrar resumen\n",
    "da"
   ]
  },
  {
   "cell_type": "code",
   "execution_count": 6,
   "id": "c6d331f0",
   "metadata": {},
   "outputs": [
    {
     "name": "stdout",
     "output_type": "stream",
     "text": [
      "Dimensiones: ('anio', 'y', 'x')\n",
      "Coordenadas: ['x', 'y', 'anio']\n",
      "Tipo de dato: float64\n",
      "Shape: (10, 89094, 72127)\n",
      "Chunks: ((1, 1, 1, 1, 1, 1, 1, 1, 1, 1), (5569, 5569, 5569, 5569, 5569, 5569, 5569, 5569, 5569, 5569, 5569, 5569, 5569, 5569, 5569, 5559), (4508, 4508, 4508, 4508, 4508, 4508, 4508, 4508, 4508, 4508, 4508, 4508, 4508, 4508, 4508, 4507))\n"
     ]
    }
   ],
   "source": [
    "print(\"Dimensiones:\", da.dims)\n",
    "print(\"Coordenadas:\", list(da.coords))\n",
    "print(\"Tipo de dato:\", da.dtype)\n",
    "print(\"Shape:\", da.shape)\n",
    "print(\"Chunks:\", da.chunks)"
   ]
  },
  {
   "cell_type": "code",
   "execution_count": 7,
   "id": "a3edd606",
   "metadata": {},
   "outputs": [
    {
     "name": "stdout",
     "output_type": "stream",
     "text": [
      "Valores únicos encontrados en la capa 2015: [ 1.  2.  3.  4.  5.  6.  7.  8.  9. 10. 11. 12. 13.]\n"
     ]
    }
   ],
   "source": [
    "# Extraer solo la primera banda (2015 por ejemplo)\n",
    "banda_2015 = da.isel(anio=0).values  # esto puede demorar unos segundos\n",
    "\n",
    "# Filtrar valores válidos (quita NaN y -127)\n",
    "valores_validos = banda_2015[~np.isnan(banda_2015)]\n",
    "valores_validos = valores_validos[valores_validos != -127]\n",
    "\n",
    "# Ver los valores únicos presentes\n",
    "valores_unicos = np.unique(valores_validos)\n",
    "print(\"Valores únicos encontrados en la capa 2015:\", valores_unicos)"
   ]
  }
 ],
 "metadata": {
  "kernelspec": {
   "display_name": "osgis_raster",
   "language": "python",
   "name": "python3"
  },
  "language_info": {
   "codemirror_mode": {
    "name": "ipython",
    "version": 3
   },
   "file_extension": ".py",
   "mimetype": "text/x-python",
   "name": "python",
   "nbconvert_exporter": "python",
   "pygments_lexer": "ipython3",
   "version": "3.9.19"
  }
 },
 "nbformat": 4,
 "nbformat_minor": 5
}
